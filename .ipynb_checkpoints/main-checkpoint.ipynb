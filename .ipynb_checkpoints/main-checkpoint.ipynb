{
 "cells": [
  {
   "cell_type": "code",
   "execution_count": 1,
   "id": "a3fe56f0-1776-4bb5-af7b-12c794087984",
   "metadata": {},
   "outputs": [],
   "source": [
    "# Import necessary packages\n",
    "import pandas as pd\n",
    "import torch\n",
    "\n",
    "from transformers import logging\n",
    "logging.set_verbosity(logging.WARNING)"
   ]
  },
  {
   "cell_type": "code",
   "execution_count": 2,
   "id": "ad31e87f-e463-4f63-8ac4-fef660bf4fb2",
   "metadata": {},
   "outputs": [],
   "source": [
    "# Init data\n",
    "car_reviews_df = pd.read_csv(\"data/car_reviews.csv\", sep=';')\n",
    "\n",
    "car_reviews_text = car_reviews_df['Review'].to_list()\n",
    "class_mapping = {'POSITIVE':1, 'NEGATIVE':0}\n",
    "car_reviews_class = [class_mapping[ref] for ref in car_reviews_df['Class'].to_list()]"
   ]
  },
  {
   "cell_type": "code",
   "execution_count": 3,
   "id": "ff25e389-f31c-48e3-9c0c-f8aa1621c6b6",
   "metadata": {},
   "outputs": [
    {
     "name": "stderr",
     "output_type": "stream",
     "text": [
      "WARNING:root:libtpu.so and TPU device found. Setting PJRT_DEVICE=TPU.\n",
      "Device set to use cpu\n"
     ]
    }
   ],
   "source": [
    "# Sentiment Classification\n",
    "from transformers import pipeline\n",
    "\n",
    "def getSentiment(review):\n",
    "    return pipeline(\"text-classification\", model=\"distilbert/distilbert-base-uncased-finetuned-sst-2-english\")(review)\n",
    "\n",
    "review_class_pred_dict = getSentiment(car_reviews_text)\n",
    "predicted_labels = [output['label'] for output in review_class_pred_dict]\n",
    "predictions = [ (1 if pred == 'POSITIVE' else 0) for pred in predicted_labels ]\n",
    "\n",
    "# Evaluate results\n",
    "import evaluate\n",
    "\n",
    "f1 = evaluate.load(\"f1\")\n",
    "accuracy = evaluate.load(\"accuracy\")\n",
    "\n",
    "f1_result = f1.compute(references=car_reviews_class, predictions=predictions)\n",
    "accuracy_result = accuracy.compute(references=car_reviews_class, predictions=predictions)"
   ]
  },
  {
   "cell_type": "code",
   "execution_count": 4,
   "id": "62407621-e68c-41b4-8eb9-3b94cb51a563",
   "metadata": {},
   "outputs": [
    {
     "name": "stderr",
     "output_type": "stream",
     "text": [
      "Device set to use cpu\n"
     ]
    }
   ],
   "source": [
    "# Translating first two sentences of first review\n",
    "def translateEnToSpanish(sentences):\n",
    "    return pipeline(\"translation\", model=\"Helsinki-NLP/opus-mt-en-es\")(sentences)[0]['translation_text']\n",
    "\n",
    "def findNOccurrence(text, keyword=\".\", time=2):\n",
    "    i = 0\n",
    "    textLen = len(text)\n",
    "    while time != 0 and i < textLen:\n",
    "        if text[i] == keyword:\n",
    "            time -= 1\n",
    "        i += 1\n",
    "    return i if i < textLen else -1\n",
    "\n",
    "sentences = car_reviews_text[0][:findNOccurrence(car_reviews_text[0])]\n",
    "translated_review = translateEnToSpanish(sentences)\n",
    "\n",
    "with open(\"data/reference_translations.txt\",\"r\") as f:\n",
    "    ref_text_content = [str.strip() for str in f.readlines()]\n",
    "\n",
    "bleu = evaluate.load(\"bleu\")\n",
    "bleu_score = bleu.compute(references=[ref_text_content], predictions=[translated_review])"
   ]
  },
  {
   "cell_type": "code",
   "execution_count": 5,
   "id": "295033ff-0f6e-43f7-8b2b-66523fa084c1",
   "metadata": {},
   "outputs": [
    {
     "data": {
      "application/vnd.jupyter.widget-view+json": {
       "model_id": "15376012298640e4a842a6e77a62a1a5",
       "version_major": 2,
       "version_minor": 0
      },
      "text/plain": [
       "config.json:   0%|          | 0.00/477 [00:00<?, ?B/s]"
      ]
     },
     "metadata": {},
     "output_type": "display_data"
    },
    {
     "data": {
      "application/vnd.jupyter.widget-view+json": {
       "model_id": "ba91f613dfcd41b0a0eedfa530a9ec4e",
       "version_major": 2,
       "version_minor": 0
      },
      "text/plain": [
       "model.safetensors:   0%|          | 0.00/133M [00:00<?, ?B/s]"
      ]
     },
     "metadata": {},
     "output_type": "display_data"
    },
    {
     "name": "stderr",
     "output_type": "stream",
     "text": [
      "Some weights of the model checkpoint at deepset/minilm-uncased-squad2 were not used when initializing BertForQuestionAnswering: ['bert.pooler.dense.bias', 'bert.pooler.dense.weight']\n",
      "- This IS expected if you are initializing BertForQuestionAnswering from the checkpoint of a model trained on another task or with another architecture (e.g. initializing a BertForSequenceClassification model from a BertForPreTraining model).\n",
      "- This IS NOT expected if you are initializing BertForQuestionAnswering from the checkpoint of a model that you expect to be exactly identical (initializing a BertForSequenceClassification model from a BertForSequenceClassification model).\n"
     ]
    },
    {
     "data": {
      "application/vnd.jupyter.widget-view+json": {
       "model_id": "ce0cfb9b2dee4c8db280ba9ad7056793",
       "version_major": 2,
       "version_minor": 0
      },
      "text/plain": [
       "tokenizer_config.json:   0%|          | 0.00/107 [00:00<?, ?B/s]"
      ]
     },
     "metadata": {},
     "output_type": "display_data"
    },
    {
     "data": {
      "application/vnd.jupyter.widget-view+json": {
       "model_id": "8bdfb4e50e494cc7844f3db54b3abf3c",
       "version_major": 2,
       "version_minor": 0
      },
      "text/plain": [
       "vocab.txt: 0.00B [00:00, ?B/s]"
      ]
     },
     "metadata": {},
     "output_type": "display_data"
    },
    {
     "data": {
      "application/vnd.jupyter.widget-view+json": {
       "model_id": "b9dd4153fe4c4141b2905174e78ce789",
       "version_major": 2,
       "version_minor": 0
      },
      "text/plain": [
       "special_tokens_map.json:   0%|          | 0.00/112 [00:00<?, ?B/s]"
      ]
     },
     "metadata": {},
     "output_type": "display_data"
    },
    {
     "data": {
      "application/vnd.jupyter.widget-view+json": {
       "model_id": "8140ba8112f34d76b17c56b3e174291d",
       "version_major": 2,
       "version_minor": 0
      },
      "text/plain": [
       "Fetching 0 files: 0it [00:00, ?it/s]"
      ]
     },
     "metadata": {},
     "output_type": "display_data"
    },
    {
     "data": {
      "application/vnd.jupyter.widget-view+json": {
       "model_id": "72860764483d4361a07149b3283dc362",
       "version_major": 2,
       "version_minor": 0
      },
      "text/plain": [
       "Fetching 1 files:   0%|          | 0/1 [00:00<?, ?it/s]"
      ]
     },
     "metadata": {},
     "output_type": "display_data"
    },
    {
     "data": {
      "application/vnd.jupyter.widget-view+json": {
       "model_id": "52b06f30aa3b4026a0f6a4545204622e",
       "version_major": 2,
       "version_minor": 0
      },
      "text/plain": [
       "Fetching 0 files: 0it [00:00, ?it/s]"
      ]
     },
     "metadata": {},
     "output_type": "display_data"
    },
    {
     "name": "stderr",
     "output_type": "stream",
     "text": [
      "Device set to use cpu\n",
      "/home/namhoang/env/lib/python3.11/site-packages/transformers/pipelines/question_answering.py:395: FutureWarning: Passing a list of SQuAD examples to the pipeline is deprecated and will be removed in v5. Inputs should be passed using the `question` and `context` keyword arguments instead.\n",
      "  warnings.warn(\n"
     ]
    }
   ],
   "source": [
    "# QA LLM\n",
    "def getAnswer(question, context):\n",
    "    return pipeline(\"question-answering\", model=\"deepset/minilm-uncased-squad2\")({'question': question, 'context': context})['answer']\n",
    "\n",
    "question = \"What did he like about the brand?\"\n",
    "context = car_reviews_text[1]\n",
    "\n",
    "answer = getAnswer(question, context)"
   ]
  },
  {
   "cell_type": "code",
   "execution_count": 7,
   "id": "2e9940d6-3fc1-48ba-b2c0-25b389a11685",
   "metadata": {},
   "outputs": [
    {
     "data": {
      "application/vnd.jupyter.widget-view+json": {
       "model_id": "e5fd084ef775471892fbb538b7144682",
       "version_major": 2,
       "version_minor": 0
      },
      "text/plain": [
       "config.json: 0.00B [00:00, ?B/s]"
      ]
     },
     "metadata": {},
     "output_type": "display_data"
    },
    {
     "data": {
      "application/vnd.jupyter.widget-view+json": {
       "model_id": "f591c819562e49648147ebdf36ce38ce",
       "version_major": 2,
       "version_minor": 0
      },
      "text/plain": [
       "model.safetensors:   0%|          | 0.00/1.63G [00:00<?, ?B/s]"
      ]
     },
     "metadata": {},
     "output_type": "display_data"
    },
    {
     "data": {
      "application/vnd.jupyter.widget-view+json": {
       "model_id": "7fe3a4c493b043b5876fcb07eb9505b0",
       "version_major": 2,
       "version_minor": 0
      },
      "text/plain": [
       "generation_config.json:   0%|          | 0.00/363 [00:00<?, ?B/s]"
      ]
     },
     "metadata": {},
     "output_type": "display_data"
    },
    {
     "data": {
      "application/vnd.jupyter.widget-view+json": {
       "model_id": "85155071c91b4e308ec8e11b55bd3ebf",
       "version_major": 2,
       "version_minor": 0
      },
      "text/plain": [
       "vocab.json: 0.00B [00:00, ?B/s]"
      ]
     },
     "metadata": {},
     "output_type": "display_data"
    },
    {
     "data": {
      "application/vnd.jupyter.widget-view+json": {
       "model_id": "9f77736e65c54600835e1c655a47179b",
       "version_major": 2,
       "version_minor": 0
      },
      "text/plain": [
       "merges.txt: 0.00B [00:00, ?B/s]"
      ]
     },
     "metadata": {},
     "output_type": "display_data"
    },
    {
     "data": {
      "application/vnd.jupyter.widget-view+json": {
       "model_id": "b3033674177344b6a0acea0e9c42f3b3",
       "version_major": 2,
       "version_minor": 0
      },
      "text/plain": [
       "tokenizer.json: 0.00B [00:00, ?B/s]"
      ]
     },
     "metadata": {},
     "output_type": "display_data"
    },
    {
     "name": "stderr",
     "output_type": "stream",
     "text": [
      "Device set to use cpu\n"
     ]
    }
   ],
   "source": [
    "# Summarize last review\n",
    "def summarizeText(text):\n",
    "    return pipeline(\"summarization\", model=\"facebook/bart-large-cnn\", max_new_tokens=55)(text)[0]['summary_text']\n",
    "\n",
    "text = car_reviews_text[-1]\n",
    "summarized_text = summarizeText(text)"
   ]
  }
 ],
 "metadata": {
  "kernelspec": {
   "display_name": "Python 3 (ipykernel)",
   "language": "python",
   "name": "python3"
  },
  "language_info": {
   "codemirror_mode": {
    "name": "ipython",
    "version": 3
   },
   "file_extension": ".py",
   "mimetype": "text/x-python",
   "name": "python",
   "nbconvert_exporter": "python",
   "pygments_lexer": "ipython3",
   "version": "3.11.13"
  }
 },
 "nbformat": 4,
 "nbformat_minor": 5
}
