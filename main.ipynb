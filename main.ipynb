{
 "cells": [
  {
   "cell_type": "code",
   "execution_count": 1,
   "id": "a3fe56f0-1776-4bb5-af7b-12c794087984",
   "metadata": {},
   "outputs": [],
   "source": [
    "# Import necessary packages\n",
    "import pandas as pd\n",
    "import torch\n",
    "\n",
    "from transformers import logging\n",
    "logging.set_verbosity(logging.WARNING)"
   ]
  },
  {
   "cell_type": "code",
   "execution_count": 9,
   "id": "ad31e87f-e463-4f63-8ac4-fef660bf4fb2",
   "metadata": {},
   "outputs": [],
   "source": [
    "# Init data\n",
    "car_reviews_df = pd.read_csv(\"data/car_reviews.csv\", sep=';')\n",
    "\n",
    "car_reviews_text = car_reviews_df['Review'].to_list()\n",
    "class_mapping = {'POSITIVE':1, 'NEGATIVE':0}\n",
    "car_reviews_class = [class_mapping[ref] for ref in car_reviews_df['Class'].to_list()]"
   ]
  },
  {
   "cell_type": "code",
   "execution_count": 10,
   "id": "ff25e389-f31c-48e3-9c0c-f8aa1621c6b6",
   "metadata": {},
   "outputs": [
    {
     "name": "stderr",
     "output_type": "stream",
     "text": [
      "Device set to use cpu\n"
     ]
    },
    {
     "name": "stdout",
     "output_type": "stream",
     "text": [
      "0.8571428571428571 0.8\n"
     ]
    }
   ],
   "source": [
    "# Sentiment Classification\n",
    "from transformers import pipeline\n",
    "\n",
    "def getSentiment(review):\n",
    "    return pipeline(\"text-classification\", model=\"distilbert/distilbert-base-uncased-finetuned-sst-2-english\")(review)\n",
    "\n",
    "predicted_labels = getSentiment(car_reviews_text)\n",
    "predictions = [class_mapping[output['label']] for output in predicted_labels]\n",
    "\n",
    "# Evaluate results\n",
    "import evaluate\n",
    "\n",
    "f1 = evaluate.load(\"f1\")\n",
    "accuracy = evaluate.load(\"accuracy\")\n",
    "\n",
    "f1_result = f1.compute(references=car_reviews_class, predictions=predictions)['f1']\n",
    "accuracy_result = accuracy.compute(references=car_reviews_class, predictions=predictions)['accuracy']\n",
    "print(f1_result, accuracy_result)"
   ]
  },
  {
   "cell_type": "code",
   "execution_count": 11,
   "id": "62407621-e68c-41b4-8eb9-3b94cb51a563",
   "metadata": {},
   "outputs": [
    {
     "name": "stderr",
     "output_type": "stream",
     "text": [
      "Device set to use cpu\n"
     ]
    },
    {
     "name": "stdout",
     "output_type": "stream",
     "text": [
      "0.7794483794144497\n"
     ]
    }
   ],
   "source": [
    "# Translating first two sentences of first review\n",
    "def translateEnToSpanish(sentences):\n",
    "    return pipeline(\"translation\", model=\"Helsinki-NLP/opus-mt-en-es\")(sentences)[0]['translation_text']\n",
    "\n",
    "def findNOccurrence(text, keyword=\".\", time=2):\n",
    "    i = 0\n",
    "    textLen = len(text)\n",
    "    while time != 0 and i < textLen:\n",
    "        if text[i] == keyword:\n",
    "            time -= 1\n",
    "        i += 1\n",
    "    return i if i < textLen else -1\n",
    "\n",
    "sentences = car_reviews_text[0][:findNOccurrence(car_reviews_text[0])]\n",
    "translated_review = translateEnToSpanish(sentences)\n",
    "\n",
    "with open(\"data/reference_translations.txt\",\"r\") as f:\n",
    "    ref_text_content = [str.strip() for str in f.readlines()]\n",
    "\n",
    "bleu = evaluate.load(\"bleu\")\n",
    "bleu_score = bleu.compute(references=[ref_text_content], predictions=[translated_review])\n",
    "print(bleu_score['bleu'])"
   ]
  },
  {
   "cell_type": "code",
   "execution_count": 14,
   "id": "295033ff-0f6e-43f7-8b2b-66523fa084c1",
   "metadata": {},
   "outputs": [
    {
     "name": "stderr",
     "output_type": "stream",
     "text": [
      "Some weights of the model checkpoint at deepset/minilm-uncased-squad2 were not used when initializing BertForQuestionAnswering: ['bert.pooler.dense.bias', 'bert.pooler.dense.weight']\n",
      "- This IS expected if you are initializing BertForQuestionAnswering from the checkpoint of a model trained on another task or with another architecture (e.g. initializing a BertForSequenceClassification model from a BertForPreTraining model).\n",
      "- This IS NOT expected if you are initializing BertForQuestionAnswering from the checkpoint of a model that you expect to be exactly identical (initializing a BertForSequenceClassification model from a BertForSequenceClassification model).\n"
     ]
    },
    {
     "data": {
      "application/vnd.jupyter.widget-view+json": {
       "model_id": "cc734dc1907a46e8b821acbf7aeedeec",
       "version_major": 2,
       "version_minor": 0
      },
      "text/plain": [
       "Fetching 0 files: 0it [00:00, ?it/s]"
      ]
     },
     "metadata": {},
     "output_type": "display_data"
    },
    {
     "data": {
      "application/vnd.jupyter.widget-view+json": {
       "model_id": "fa2f9a2770b54dbaa051ae498ff36557",
       "version_major": 2,
       "version_minor": 0
      },
      "text/plain": [
       "Fetching 1 files:   0%|          | 0/1 [00:00<?, ?it/s]"
      ]
     },
     "metadata": {},
     "output_type": "display_data"
    },
    {
     "data": {
      "application/vnd.jupyter.widget-view+json": {
       "model_id": "cd8db554b74d408a9cd7f564a34d6629",
       "version_major": 2,
       "version_minor": 0
      },
      "text/plain": [
       "Fetching 0 files: 0it [00:00, ?it/s]"
      ]
     },
     "metadata": {},
     "output_type": "display_data"
    },
    {
     "name": "stderr",
     "output_type": "stream",
     "text": [
      "Device set to use cpu\n"
     ]
    },
    {
     "name": "stdout",
     "output_type": "stream",
     "text": [
      "ride quality, reliability\n"
     ]
    }
   ],
   "source": [
    "# QA LLM\n",
    "def getAnswer(question, context):\n",
    "    return pipeline(\"question-answering\", model=\"deepset/minilm-uncased-squad2\")({'question': question, 'context': context})['answer']\n",
    "\n",
    "question = \"What did he like about the brand?\"\n",
    "context = car_reviews_text[1]\n",
    "\n",
    "answer = getAnswer(question, context)\n",
    "print(answer)"
   ]
  },
  {
   "cell_type": "code",
   "execution_count": 13,
   "id": "2e9940d6-3fc1-48ba-b2c0-25b389a11685",
   "metadata": {},
   "outputs": [
    {
     "name": "stderr",
     "output_type": "stream",
     "text": [
      "Device set to use cpu\n"
     ]
    },
    {
     "name": "stdout",
     "output_type": "stream",
     "text": [
      "The Nissan Rogue provides me with the desired SUV experience without burdening me with an exorbitant payment. Handling and styling are great; I have hauled 12 bags of mulch in the back with the seats down and could have held more. The engine delivers strong performance\n"
     ]
    }
   ],
   "source": [
    "# Summarize last review\n",
    "def summarizeText(text):\n",
    "    return pipeline(\"summarization\", model=\"facebook/bart-large-cnn\", max_new_tokens=55)(text)[0]['summary_text']\n",
    "\n",
    "text = car_reviews_text[-1]\n",
    "summarized_text = summarizeText(text)\n",
    "print(summarized_text)"
   ]
  }
 ],
 "metadata": {
  "kernelspec": {
   "display_name": "Python 3 (ipykernel)",
   "language": "python",
   "name": "python3"
  },
  "language_info": {
   "codemirror_mode": {
    "name": "ipython",
    "version": 3
   },
   "file_extension": ".py",
   "mimetype": "text/x-python",
   "name": "python",
   "nbconvert_exporter": "python",
   "pygments_lexer": "ipython3",
   "version": "3.11.13"
  }
 },
 "nbformat": 4,
 "nbformat_minor": 5
}
